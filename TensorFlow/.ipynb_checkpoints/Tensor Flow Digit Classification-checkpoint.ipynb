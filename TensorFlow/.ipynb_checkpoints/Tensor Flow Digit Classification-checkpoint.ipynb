{
 "cells": [
  {
   "cell_type": "markdown",
   "metadata": {},
   "source": [
    "# Tensor Flow Demo\n",
    "## MNIST classifiation for ML Beginners\n",
    "\n",
    "### About\n",
    "\n",
    "Tensorflow is a Python Library that provides versitile machine learning tools.\n",
    "\n",
    "### Scope\n",
    "\n",
    "For this demo, I will create one of the Tensor Flow examples to recognize handwritten digits.\n",
    "\n",
    "Taken from: https://www.tensorflow.org/get_started/mnist/beginners"
   ]
  },
  {
   "cell_type": "markdown",
   "metadata": {},
   "source": [
    "### Softmax regression\n",
    "\n",
    "[Softmax Regression](http://ufldl.stanford.edu/tutorial/supervised/SoftmaxRegression/) is multinomial logistic regression that can handle multiple classifications. Whereas Logistic Regression is binary in classification, Softmax Regression can handle classifications in multiple dimensions.\n",
    "\n",
    "**Model:**\n",
    "\n",
    "![Softmax Regression Image 1](https://www.tensorflow.org/images/softmax-regression-scalargraph.png)\n",
    "\n",
    "\n",
    "**Equations:**\n",
    "\n",
    "![Softmax Regression Image 2](https://www.tensorflow.org/images/softmax-regression-scalarequation.png)\n",
    "\n",
    "**Compacted:**\n",
    "\n",
    "y = softmax(W*x*+b)"
   ]
  },
  {
   "cell_type": "code",
   "execution_count": 2,
   "metadata": {
    "collapsed": true
   },
   "outputs": [],
   "source": [
    "# First we need to import our dependencies\n",
    "# Tensor Flow helps with the ML side of this demo\n",
    "import tensorflow as tf\n",
    "# Pandas helps with data output and processing\n",
    "import pandas as pd\n",
    "# We're going to import the tutorial library to gather the sample data we need\n",
    "from tensorflow.examples.tutorials.mnist import input_data"
   ]
  },
  {
   "cell_type": "code",
   "execution_count": 3,
   "metadata": {},
   "outputs": [
    {
     "name": "stdout",
     "output_type": "stream",
     "text": [
      "Extracting MNIST_data/train-images-idx3-ubyte.gz\n",
      "Extracting MNIST_data/train-labels-idx1-ubyte.gz\n",
      "Extracting MNIST_data/t10k-images-idx3-ubyte.gz\n",
      "Extracting MNIST_data/t10k-labels-idx1-ubyte.gz\n"
     ]
    }
   ],
   "source": [
    "mnist = input_data.read_data_sets(\"MNIST_data/\", one_hot=True)"
   ]
  },
  {
   "cell_type": "code",
   "execution_count": 4,
   "metadata": {
    "collapsed": true
   },
   "outputs": [],
   "source": [
    "p_holder = tf.placeholder(tf.float32, [None, 784])\n",
    "\n",
    "# Our weight is a shape of [784,10] because we want to multiple the 784-dimensional image\n",
    "# vectors by it to produce 10-dimensional vectors of evidence for the different classes.\n",
    "weight = tf.Variable(tf.zeros([784, 10]))\n",
    "bias = tf.Variable(tf.zeros([10]))\n",
    "\n",
    "# Implement our model, softmax\n",
    "y = tf.nn.softmax(tf.matmul(p_holder, weight) + bias)"
   ]
  },
  {
   "cell_type": "markdown",
   "metadata": {},
   "source": [
    "### Training The Model\n",
    "\n",
    "When training models, we don't define what is a good model, but rather what is a bad model. A common function to determine the loss of a model is called [cross-entropy](https://www.tensorflow.org/get_started/mnist/beginners#training).\n",
    "\n",
    "So using cross-entropy, we can train our model."
   ]
  },
  {
   "cell_type": "code",
   "execution_count": 7,
   "metadata": {},
   "outputs": [],
   "source": [
    "# Create a placeholder to input the correct answers\n",
    "y_placeholder = tf.placeholder(tf.float32, [None, 10])\n",
    "\n",
    "# Implement our cross entropy function\n",
    "\n",
    "cross_entropy = tf.reduce_mean(-tf.reduce_sum(y_placeholder * tf.log(y), reduction_indices=[1]))\n",
    "## Explanation\n",
    "# tf.log() computes the logarithm of each element of the y, or our softmax algorithm\n",
    "# Then we multiply each element of y_placeholder with the corresponding element of tf.log(y)\n",
    "# tf.reduce_sum adds the elements in the second dimension of y, because of reduce_indices=[1]\n",
    "# Finally tf.reduce_mean computes the mean over all the examples in the batch\n",
    "\n",
    "# We are going to run a backpropagation algorithm to efficiently determine how your variables affect the loss you ask it to minimize.\n",
    "\n",
    "# For this backpropagation, we're going to use tensorflow's Gradient Descent Algorithm\n",
    "\n",
    "train_step = tf.train.GradientDescentOptimizer(0.5).minimize(cross_entropy)\n",
    "\n",
    "# We're going to launch the model\n",
    "session = tf.InteractiveSession()\n",
    "\n",
    "# Create an operation to initialize the variables we created\n",
    "\n",
    "tf.global_variables_initializer().run()\n",
    "\n",
    "# Now we're going to start the actual training\n",
    "\n",
    "for _ in range(1000):\n",
    "    # A batch of 100 random data points from our training set\n",
    "    batch_xs, batch_ys = mnist.train.next_batch(100)\n",
    "    # Run the session with our backpropagation, and our batches\n",
    "    session.run(train_step, feed_dict={p_holder: batch_xs, y_placeholder: batch_ys})"
   ]
  },
  {
   "cell_type": "markdown",
   "metadata": {
    "collapsed": true
   },
   "source": [
    "### Evaluating the model\n",
    "\n",
    "How well did the model do? Let's find out!\n",
    "\n",
    "We need to first figure out where we predicted the correct label.\n",
    "For that we'll use `tf.argmax`"
   ]
  },
  {
   "cell_type": "code",
   "execution_count": 9,
   "metadata": {},
   "outputs": [
    {
     "name": "stdout",
     "output_type": "stream",
     "text": [
      "0.9203\n"
     ]
    }
   ],
   "source": [
    "correct_prediction = tf.equal(tf.argmax(y, 1), tf.argmax(y_placeholder, 1))\n",
    "\n",
    "# We're converting the list of Booleans to floats so we can calculate the percentage\n",
    "# of correct predictions\n",
    "accuracy = tf.reduce_mean(tf.cast(correct_prediction, tf.float32))\n",
    "\n",
    "# Finally we'll ask tensorflow for the accuracy of our test data\n",
    "print(session.run(accuracy, feed_dict={p_holder: mnist.test.images, y_placeholder: mnist.test.labels}))"
   ]
  },
  {
   "cell_type": "markdown",
   "metadata": {},
   "source": [
    "### Conclusion\n",
    "\n",
    "The value stated above is the percentage accuracy that our model had. 92%, although it seems good, it's actually not. If we were to make some improvments to our model, we could get the percentage up to 97%. The best models have over 99% accuracy.\n",
    "\n",
    "This was just a high-level demo of Tensor Flow, taken from their page, so its mostly meant for educational purposes. Although even though 92% may be pretty bad in a production environment, it is more than good enough for testing."
   ]
  },
  {
   "cell_type": "code",
   "execution_count": null,
   "metadata": {
    "collapsed": true
   },
   "outputs": [],
   "source": []
  }
 ],
 "metadata": {
  "kernelspec": {
   "display_name": "Python 3",
   "language": "python",
   "name": "python3"
  },
  "language_info": {
   "codemirror_mode": {
    "name": "ipython",
    "version": 3
   },
   "file_extension": ".py",
   "mimetype": "text/x-python",
   "name": "python",
   "nbconvert_exporter": "python",
   "pygments_lexer": "ipython3",
   "version": "3.6.1"
  }
 },
 "nbformat": 4,
 "nbformat_minor": 2
}

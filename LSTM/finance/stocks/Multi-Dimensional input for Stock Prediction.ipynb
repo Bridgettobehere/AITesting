{
 "cells": [
  {
   "cell_type": "markdown",
   "metadata": {},
   "source": [
    "# Multi-Dimensional Data input for Stock Prediction\n",
    "\n",
    "As seen in the other notebooks, we can predict the stock market price of a company with an OK accuracy rate, it gives us the basic shape of the stock, but fails when the trend changes drastically.\n",
    "\n",
    "In order to fix this, we can add a higher dropout level in order to reduce the overfitting for the training data, but we can also add more dimensions of data to further improve the models ability to predict the market."
   ]
  },
  {
   "cell_type": "markdown",
   "metadata": {},
   "source": [
    "### Data Types\n",
    "\n",
    "We'll use the `pandas_datareader` python module to gather historical stock data from Yahoo! instead of downloading the past 10 years from NASDAQ manually. We'll be able to access this data using a standard Pandas Dataframe.\n",
    "\n",
    "We can use not only the closing price for the day, but also the opening, high, and low, and any other data we may want."
   ]
  },
  {
   "cell_type": "code",
   "execution_count": 237,
   "metadata": {
    "collapsed": true
   },
   "outputs": [],
   "source": [
    "# dependencies\n",
    "from __future__ import print_function\n",
    "import numpy as np # linear algebra\n",
    "import pandas as pd # data processing, CSV file I/O (e.g. pd.read_csv)\n",
    "from keras.layers.core import Dense, Activation, Dropout\n",
    "from keras.layers.recurrent import LSTM\n",
    "from keras.layers import Bidirectional\n",
    "from keras.models import Sequential\n",
    "from keras.callbacks import ModelCheckpoint, LearningRateScheduler, TensorBoard, EarlyStopping, Callback\n",
    "from sklearn.cross_validation import  train_test_split\n",
    "from sklearn.preprocessing import MinMaxScaler\n",
    "from sklearn.metrics import mean_squared_error\n",
    "import matplotlib.pyplot as plt\n",
    "import math\n",
    "import requests\n",
    "import pandas_datareader as web\n",
    "import datetime"
   ]
  },
  {
   "cell_type": "code",
   "execution_count": 47,
   "metadata": {
    "collapsed": true
   },
   "outputs": [],
   "source": [
    "# HYPER PARAMETERS\n",
    "look_back = 7\n",
    "epochs = 100\n",
    "batch_size = 32"
   ]
  },
  {
   "cell_type": "code",
   "execution_count": 9,
   "metadata": {},
   "outputs": [
    {
     "name": "stdout",
     "output_type": "stream",
     "text": [
      "                 Open       High        Low      Close  Adj Close   Volume\n",
      "Date                                                                      \n",
      "2008-01-02  87.570000  87.839996  86.000000  86.620003  66.612892  4303000\n",
      "2008-01-03  87.070000  87.639999  86.739998  86.980003  66.889755  3427900\n",
      "2008-01-04  86.320000  87.160004  85.690002  85.820000  65.997665  5393400\n",
      "2008-01-07  86.250000  86.300003  82.169998  82.870003  63.729050  9961800\n",
      "2008-01-08  83.110001  83.370003  79.650002  79.910004  61.452744  9810600\n"
     ]
    }
   ],
   "source": [
    "# get stock data for Boeing, Inc. (BA)\n",
    "\n",
    "# specify the start date, which will be in 2008\n",
    "start = datetime.datetime(2008,1,1)\n",
    "# specify the end date, which should be today\n",
    "end = datetime.datetime.now()\n",
    "\n",
    "data = web.DataReader(\"BA\", 'yahoo', start, end)\n",
    "print(data.head())"
   ]
  },
  {
   "cell_type": "code",
   "execution_count": 216,
   "metadata": {},
   "outputs": [
    {
     "name": "stdout",
     "output_type": "stream",
     "text": [
      "Prices Shape: (2536, 6)\n",
      "Prices: [[8.66200027e+01 8.75699997e+01 8.78399963e+01 8.60000000e+01\n",
      "  6.66128922e+01 4.30300000e+06]\n",
      " [8.69800034e+01 8.70699997e+01 8.76399994e+01 8.67399979e+01\n",
      "  6.68897552e+01 3.42790000e+06]\n",
      " [8.58199997e+01 8.63199997e+01 8.71600037e+01 8.56900024e+01\n",
      "  6.59976654e+01 5.39340000e+06]\n",
      " ...\n",
      " [3.34690002e+02 3.36200012e+02 3.38989990e+02 3.34140015e+02\n",
      "  3.34690002e+02 4.20540000e+06]\n",
      " [3.43109985e+02 3.36209991e+02 3.43619995e+02 3.35299988e+02\n",
      "  3.43109985e+02 4.59100000e+06]\n",
      " [3.42799988e+02 3.44329987e+02 3.45980011e+02 3.41519989e+02\n",
      "  3.42799988e+02 5.28084000e+05]]\n"
     ]
    }
   ],
   "source": [
    "# get the data from the response\n",
    "closing = data.Close.values.astype('float32')\n",
    "opening = data.Open.values.astype('float32')\n",
    "high = data.High.values.astype('float32')\n",
    "low = data.Low.values.astype('float32')\n",
    "adj_close = data[\"Adj Close\"].values.astype('float32')\n",
    "volume = data.Volume.values.astype('float32')\n",
    "# reassign our data into column vector format so we can loop through them easily\n",
    "closing = closing.reshape(len(closing), 1)\n",
    "opening = opening.reshape(len(opening), 1)\n",
    "high = high.reshape(len(high), 1)\n",
    "low = low.reshape(len(low), 1)\n",
    "adj_close = adj_close.reshape(len(adj_close), 1)\n",
    "volume = volume.reshape(len(volume), 1)\n",
    "# create an empty prices tensor that we will populate with our data\n",
    "# our tensor will have the shape (closing, opening, high, low, adjusted_close, volume) * len(data)\n",
    "prices = np.zeros((len(data), 6))\n",
    "print(\"Prices Shape:\", prices.shape)\n",
    "\n",
    "# reassign the values to the tensor\n",
    "\n",
    "for index, val in enumerate(prices):\n",
    "    prices[index, 0] = closing[index]\n",
    "    prices[index, 1] = opening[index]\n",
    "    prices[index, 2] = high[index]\n",
    "    prices[index, 3] = low[index]\n",
    "    prices[index, 4] = adj_close[index]\n",
    "    prices[index, 5] = volume[index]\n",
    "print(\"Prices:\", prices)"
   ]
  },
  {
   "cell_type": "markdown",
   "metadata": {},
   "source": [
    "### Data Normalization\n",
    "\n",
    "We need to normalize our values (squish them between 0 and 1) so our data is all on the same \"playing field\". We'll use a MinMaxScaler to do that with a feature range of (0,1)"
   ]
  },
  {
   "cell_type": "code",
   "execution_count": 217,
   "metadata": {
    "collapsed": true
   },
   "outputs": [],
   "source": [
    "normalizer = MinMaxScaler(feature_range=(0,1))\n",
    "# normalize our prices tensor\n",
    "prices = normalizer.fit_transform(prices)"
   ]
  },
  {
   "cell_type": "markdown",
   "metadata": {},
   "source": [
    "### Training and Testing Data\n",
    "\n",
    "When training we want a high accuracy rate, but we also want a high accuracy rate for our testing. Therefore we want the RMSE for both training and testing to be as low as possible. We need to be careful when determining how much data to use for training, and how much to use for testing, because we don't want the model too overfit to the training, but at the same time we don't want the model to be underfit."
   ]
  },
  {
   "cell_type": "code",
   "execution_count": 218,
   "metadata": {},
   "outputs": [
    {
     "name": "stdout",
     "output_type": "stream",
     "text": [
      "Training Shape: (1521, 6)\n",
      "Testing Shape: (1015, 6)\n"
     ]
    }
   ],
   "source": [
    "# split the training testing data 60%, 40%\n",
    "\n",
    "trainingSize = int(len(prices) * 0.6)\n",
    "\n",
    "training, testing = prices[0:trainingSize, :], prices[trainingSize:len(prices), :]\n",
    "print(\"Training Shape:\", training.shape)\n",
    "print(\"Testing Shape:\", testing.shape)"
   ]
  },
  {
   "cell_type": "code",
   "execution_count": 219,
   "metadata": {
    "collapsed": true
   },
   "outputs": [],
   "source": [
    "# creating a dataset for multidimensional data\n",
    "def create_dataset(dataset, look_back):\n",
    "    dataX, dataY = [], []\n",
    "    for index in range(len(dataset)-look_back-1):\n",
    "        a = dataset[index:(index+look_back), :]\n",
    "        dataX.append(a)\n",
    "        dataY.append(dataset[index + look_back, :])\n",
    "    return np.array(dataX), np.array(dataY)"
   ]
  },
  {
   "cell_type": "code",
   "execution_count": 220,
   "metadata": {
    "collapsed": true
   },
   "outputs": [],
   "source": [
    "trainX, trainY = create_dataset(training, look_back)\n",
    "\n",
    "testX, testY = create_dataset(testing, look_back)\n"
   ]
  },
  {
   "cell_type": "code",
   "execution_count": 221,
   "metadata": {},
   "outputs": [
    {
     "name": "stdout",
     "output_type": "stream",
     "text": [
      "(1513, 7, 6)\n",
      "(1007, 7, 6)\n"
     ]
    }
   ],
   "source": [
    "def train_reshape(trainX, testX):\n",
    "    trainX = np.reshape(trainX, (trainX.shape[0], trainX.shape[1], trainX.shape[2]))\n",
    "    testX = np.reshape(testX, (testX.shape[0], testX.shape[1], testX.shape[2]))\n",
    "    return trainX, testX\n",
    "\n",
    "print(trainX.shape)\n",
    "print(testX.shape)\n",
    "trainX, testX = train_reshape(trainX, testX)"
   ]
  },
  {
   "cell_type": "code",
   "execution_count": 226,
   "metadata": {
    "collapsed": true
   },
   "outputs": [],
   "source": [
    "# create the model\n",
    "\n",
    "model = Sequential()\n",
    "\n",
    "model.add(Bidirectional(LSTM(32, return_sequences=True), input_shape=(look_back, 6)))\n",
    "model.add(Dropout(0.3))\n",
    "\n",
    "model.add(Bidirectional(LSTM(64, return_sequences=True)))\n",
    "model.add(Dropout(0.3))\n",
    "\n",
    "model.add(Bidirectional(LSTM(32, return_sequences=False)))\n",
    "\n",
    "model.add(Dense(units=6))\n",
    "\n",
    "# compile with mse and adam optimizer\n",
    "model.compile(loss='mse', optimizer='adam')"
   ]
  },
  {
   "cell_type": "code",
   "execution_count": 227,
   "metadata": {
    "scrolled": true
   },
   "outputs": [
    {
     "name": "stdout",
     "output_type": "stream",
     "text": [
      "Epoch 1/100\n",
      "1513/1513 [==============================] - 9s 6ms/step - loss: 0.0028\n",
      "Epoch 2/100\n",
      "1513/1513 [==============================] - 1s 653us/step - loss: 7.7521e-04\n",
      "Epoch 3/100\n",
      "1513/1513 [==============================] - 1s 657us/step - loss: 7.2505e-04\n",
      "Epoch 4/100\n",
      "1513/1513 [==============================] - 1s 649us/step - loss: 7.0847e-04\n",
      "Epoch 5/100\n",
      "1513/1513 [==============================] - 1s 648us/step - loss: 6.9639e-04\n",
      "Epoch 6/100\n",
      "1513/1513 [==============================] - 1s 650us/step - loss: 7.0770e-04\n",
      "Epoch 7/100\n",
      "1513/1513 [==============================] - 1s 650us/step - loss: 6.7476e-04\n",
      "Epoch 8/100\n",
      "1513/1513 [==============================] - 1s 642us/step - loss: 6.6084e-04\n",
      "Epoch 9/100\n",
      "1513/1513 [==============================] - 1s 649us/step - loss: 6.5657e-04\n",
      "Epoch 10/100\n",
      "1513/1513 [==============================] - 1s 652us/step - loss: 6.5467e-04\n",
      "Epoch 11/100\n",
      "1513/1513 [==============================] - 1s 653us/step - loss: 6.5565e-04\n",
      "Epoch 12/100\n",
      "1513/1513 [==============================] - 1s 653us/step - loss: 6.4502e-04\n",
      "Epoch 13/100\n",
      "1513/1513 [==============================] - 1s 647us/step - loss: 6.3613e-04\n",
      "Epoch 14/100\n",
      "1513/1513 [==============================] - 1s 649us/step - loss: 6.3527e-04\n",
      "Epoch 15/100\n",
      "1513/1513 [==============================] - 1s 650us/step - loss: 6.2610e-04\n",
      "Epoch 16/100\n",
      "1513/1513 [==============================] - 1s 649us/step - loss: 6.2386e-04\n",
      "Epoch 17/100\n",
      "1513/1513 [==============================] - 1s 652us/step - loss: 6.1807e-04\n",
      "Epoch 18/100\n",
      "1513/1513 [==============================] - 1s 647us/step - loss: 6.2172e-04\n",
      "Epoch 19/100\n",
      "1513/1513 [==============================] - 1s 652us/step - loss: 6.1136e-04\n",
      "Epoch 20/100\n",
      "1513/1513 [==============================] - 1s 656us/step - loss: 6.1853e-04\n",
      "Epoch 21/100\n",
      "1513/1513 [==============================] - 1s 646us/step - loss: 6.0978e-04\n",
      "Epoch 22/100\n",
      "1513/1513 [==============================] - 1s 661us/step - loss: 5.9933e-04\n",
      "Epoch 23/100\n",
      "1513/1513 [==============================] - 1s 690us/step - loss: 6.1874e-04\n",
      "Epoch 24/100\n",
      "1513/1513 [==============================] - 1s 688us/step - loss: 5.9602e-04\n",
      "Epoch 25/100\n",
      "1513/1513 [==============================] - 1s 681us/step - loss: 6.0852e-04\n",
      "Epoch 26/100\n",
      "1513/1513 [==============================] - 1s 665us/step - loss: 6.0360e-04\n",
      "Epoch 27/100\n",
      "1513/1513 [==============================] - 1s 666us/step - loss: 5.8464e-04\n",
      "Epoch 28/100\n",
      "1513/1513 [==============================] - 1s 671us/step - loss: 6.0896e-04\n",
      "Epoch 29/100\n",
      "1513/1513 [==============================] - 1s 660us/step - loss: 6.0120e-04\n",
      "Epoch 30/100\n",
      "1513/1513 [==============================] - 1s 658us/step - loss: 5.9129e-04\n",
      "Epoch 31/100\n",
      "1513/1513 [==============================] - 1s 676us/step - loss: 5.8912e-04\n",
      "Epoch 32/100\n",
      "1513/1513 [==============================] - 1s 700us/step - loss: 6.0592e-04\n",
      "Epoch 33/100\n",
      "1513/1513 [==============================] - 1s 682us/step - loss: 5.9282e-04 0s - loss: 5.9861e-0\n",
      "Epoch 34/100\n",
      "1513/1513 [==============================] - 1s 699us/step - loss: 5.9034e-04\n",
      "Epoch 35/100\n",
      "1513/1513 [==============================] - 1s 691us/step - loss: 5.9606e-04\n",
      "Epoch 36/100\n",
      "1513/1513 [==============================] - 1s 724us/step - loss: 5.9996e-04\n",
      "Epoch 37/100\n",
      "1513/1513 [==============================] - 1s 707us/step - loss: 5.9136e-04\n",
      "Epoch 38/100\n",
      "1513/1513 [==============================] - 1s 696us/step - loss: 5.8114e-04\n",
      "Epoch 39/100\n",
      "1513/1513 [==============================] - 1s 683us/step - loss: 5.8045e-04\n",
      "Epoch 40/100\n",
      "1513/1513 [==============================] - 1s 663us/step - loss: 5.7331e-04\n",
      "Epoch 41/100\n",
      "1513/1513 [==============================] - 1s 663us/step - loss: 5.9781e-04\n",
      "Epoch 42/100\n",
      "1513/1513 [==============================] - 1s 666us/step - loss: 5.8521e-04\n",
      "Epoch 43/100\n",
      "1513/1513 [==============================] - 1s 667us/step - loss: 5.8641e-04\n",
      "Epoch 44/100\n",
      "1513/1513 [==============================] - 1s 660us/step - loss: 5.7318e-04\n",
      "Epoch 45/100\n",
      "1513/1513 [==============================] - 1s 667us/step - loss: 5.8158e-04\n",
      "Epoch 46/100\n",
      "1513/1513 [==============================] - 1s 659us/step - loss: 5.8963e-04\n",
      "Epoch 47/100\n",
      "1513/1513 [==============================] - 1s 658us/step - loss: 5.9596e-04\n",
      "Epoch 48/100\n",
      "1513/1513 [==============================] - 1s 677us/step - loss: 5.8581e-04\n",
      "Epoch 49/100\n",
      "1513/1513 [==============================] - 1s 685us/step - loss: 5.7906e-04\n",
      "Epoch 50/100\n",
      "1513/1513 [==============================] - 1s 686us/step - loss: 5.7739e-04\n",
      "Epoch 51/100\n",
      "1513/1513 [==============================] - 1s 692us/step - loss: 5.7228e-04\n",
      "Epoch 52/100\n",
      "1513/1513 [==============================] - 1s 688us/step - loss: 5.8841e-04\n",
      "Epoch 53/100\n",
      "1513/1513 [==============================] - 1s 684us/step - loss: 5.7715e-04\n",
      "Epoch 54/100\n",
      "1513/1513 [==============================] - 1s 687us/step - loss: 5.7526e-04\n",
      "Epoch 55/100\n",
      "1513/1513 [==============================] - 1s 667us/step - loss: 5.8007e-04\n",
      "Epoch 56/100\n",
      "1513/1513 [==============================] - 1s 690us/step - loss: 5.7967e-04\n",
      "Epoch 57/100\n",
      "1513/1513 [==============================] - 1s 668us/step - loss: 5.8767e-04\n",
      "Epoch 58/100\n",
      "1513/1513 [==============================] - 1s 667us/step - loss: 5.8589e-04\n",
      "Epoch 59/100\n",
      "1513/1513 [==============================] - 1s 663us/step - loss: 5.8138e-04\n",
      "Epoch 60/100\n",
      "1513/1513 [==============================] - 1s 666us/step - loss: 5.7691e-04\n",
      "Epoch 61/100\n",
      "1513/1513 [==============================] - 1s 672us/step - loss: 5.9047e-04\n",
      "Epoch 62/100\n",
      "1513/1513 [==============================] - 1s 688us/step - loss: 5.7000e-04\n",
      "Epoch 63/100\n",
      "1513/1513 [==============================] - 1s 677us/step - loss: 5.7219e-04\n",
      "Epoch 64/100\n",
      "1513/1513 [==============================] - 1s 672us/step - loss: 5.7243e-04\n",
      "Epoch 65/100\n",
      "1513/1513 [==============================] - 1s 662us/step - loss: 5.6058e-04\n",
      "Epoch 66/100\n",
      "1513/1513 [==============================] - 1s 668us/step - loss: 5.8352e-04\n",
      "Epoch 67/100\n",
      "1513/1513 [==============================] - 1s 658us/step - loss: 5.6953e-04\n",
      "Epoch 68/100\n",
      "1513/1513 [==============================] - 1s 661us/step - loss: 5.7368e-04\n",
      "Epoch 69/100\n",
      "1513/1513 [==============================] - 1s 659us/step - loss: 5.7861e-04\n",
      "Epoch 70/100\n",
      "1513/1513 [==============================] - 1s 658us/step - loss: 5.5900e-04\n",
      "Epoch 71/100\n",
      "1513/1513 [==============================] - 1s 659us/step - loss: 5.6536e-04\n",
      "Epoch 72/100\n",
      "1513/1513 [==============================] - 1s 661us/step - loss: 5.6964e-04\n",
      "Epoch 73/100\n",
      "1513/1513 [==============================] - 1s 657us/step - loss: 5.7848e-04\n",
      "Epoch 74/100\n",
      "1513/1513 [==============================] - 1s 660us/step - loss: 5.7960e-04\n",
      "Epoch 75/100\n",
      "1513/1513 [==============================] - 1s 658us/step - loss: 5.6699e-04\n",
      "Epoch 76/100\n",
      "1513/1513 [==============================] - 1s 656us/step - loss: 5.7384e-04\n",
      "Epoch 77/100\n",
      "1513/1513 [==============================] - 1s 660us/step - loss: 5.7850e-04\n",
      "Epoch 78/100\n",
      "1513/1513 [==============================] - 1s 657us/step - loss: 5.6954e-04\n",
      "Epoch 79/100\n",
      "1513/1513 [==============================] - 1s 668us/step - loss: 5.7822e-04\n",
      "Epoch 80/100\n",
      "1513/1513 [==============================] - 1s 660us/step - loss: 5.8280e-04\n",
      "Epoch 81/100\n",
      "1513/1513 [==============================] - 1s 662us/step - loss: 5.8315e-04\n",
      "Epoch 82/100\n",
      "1513/1513 [==============================] - 1s 660us/step - loss: 5.6711e-04\n",
      "Epoch 83/100\n",
      "1513/1513 [==============================] - 1s 660us/step - loss: 5.6947e-04\n",
      "Epoch 84/100\n",
      "1513/1513 [==============================] - 1s 659us/step - loss: 5.7086e-04\n",
      "Epoch 85/100\n",
      "1513/1513 [==============================] - 1s 658us/step - loss: 5.6432e-04\n",
      "Epoch 86/100\n",
      "1513/1513 [==============================] - 1s 658us/step - loss: 5.5971e-04\n",
      "Epoch 87/100\n",
      "1513/1513 [==============================] - 1s 657us/step - loss: 5.8021e-04\n",
      "Epoch 88/100\n",
      "1513/1513 [==============================] - 1s 659us/step - loss: 5.7743e-04\n",
      "Epoch 89/100\n",
      "1513/1513 [==============================] - 1s 656us/step - loss: 5.6912e-04\n",
      "Epoch 90/100\n",
      "1513/1513 [==============================] - 1s 660us/step - loss: 5.5480e-04\n"
     ]
    },
    {
     "name": "stdout",
     "output_type": "stream",
     "text": [
      "Epoch 91/100\n",
      "1513/1513 [==============================] - 1s 654us/step - loss: 5.6820e-04\n",
      "Epoch 92/100\n",
      "1513/1513 [==============================] - 1s 660us/step - loss: 5.6300e-04\n",
      "Epoch 93/100\n",
      "1513/1513 [==============================] - 1s 658us/step - loss: 5.7526e-04\n",
      "Epoch 94/100\n",
      "1513/1513 [==============================] - 1s 658us/step - loss: 5.5701e-04\n",
      "Epoch 95/100\n",
      "1513/1513 [==============================] - 1s 665us/step - loss: 5.7097e-04\n",
      "Epoch 96/100\n",
      "1513/1513 [==============================] - 1s 659us/step - loss: 5.5795e-04\n",
      "Epoch 97/100\n",
      "1513/1513 [==============================] - 1s 658us/step - loss: 5.6010e-04\n",
      "Epoch 98/100\n",
      "1513/1513 [==============================] - 1s 656us/step - loss: 5.6298e-04\n",
      "Epoch 99/100\n",
      "1513/1513 [==============================] - 1s 661us/step - loss: 5.5579e-04\n",
      "Epoch 100/100\n",
      "1513/1513 [==============================] - 1s 655us/step - loss: 5.5979e-04\n"
     ]
    },
    {
     "data": {
      "text/plain": [
       "<keras.callbacks.History at 0x130ad5550>"
      ]
     },
     "execution_count": 227,
     "metadata": {},
     "output_type": "execute_result"
    }
   ],
   "source": [
    "# fit the model\n",
    "model.fit(trainX, trainY, epochs=epochs, batch_size=batch_size)"
   ]
  },
  {
   "cell_type": "code",
   "execution_count": 228,
   "metadata": {
    "collapsed": true
   },
   "outputs": [],
   "source": [
    "# predict some values\n",
    "trainPredictions = model.predict(trainX)\n",
    "testPredictions = model.predict(testX)"
   ]
  },
  {
   "cell_type": "code",
   "execution_count": 229,
   "metadata": {
    "collapsed": true
   },
   "outputs": [],
   "source": [
    "# reverse the predictions for RMSE\n",
    "trainPredictions = normalizer.inverse_transform(trainPredictions)\n",
    "trainY = normalizer.inverse_transform(trainY)\n",
    "testPredictions = normalizer.inverse_transform(testPredictions)\n",
    "testY = normalizer.inverse_transform(testY)"
   ]
  },
  {
   "cell_type": "code",
   "execution_count": 236,
   "metadata": {
    "scrolled": true
   },
   "outputs": [
    {
     "name": "stdout",
     "output_type": "stream",
     "text": [
      "Training Score: 1.70754 RMSE\n",
      "Testing Score: 32.50565 RMSE\n"
     ]
    }
   ],
   "source": [
    "# calculate the Root Mean Squared Error\n",
    "\n",
    "trainingScore = math.sqrt(mean_squared_error(trainY[:, 0], trainPredictions[:, 0]))\n",
    "testingScore = math.sqrt(mean_squared_error(testY[:, 0], testPredictions[:, 0]))\n",
    "\n",
    "print(\"Training Score: %.5f RMSE\" % (trainingScore))\n",
    "print(\"Testing Score: %.5f RMSE\" % (testingScore))"
   ]
  },
  {
   "cell_type": "code",
   "execution_count": 231,
   "metadata": {},
   "outputs": [
    {
     "data": {
      "text/plain": [
       "(2536, 6)"
      ]
     },
     "execution_count": 231,
     "metadata": {},
     "output_type": "execute_result"
    }
   ],
   "source": [
    "# reconvert the prices into their unnormalized form\n",
    "prices = normalizer.inverse_transform(prices)\n",
    "prices.shape"
   ]
  },
  {
   "cell_type": "code",
   "execution_count": 232,
   "metadata": {
    "collapsed": true
   },
   "outputs": [],
   "source": [
    "# format the data for proper display\n",
    "trainingPlot = np.empty_like(prices)\n",
    "trainingPlot[:, :] = np.nan\n",
    "trainingPlot[look_back:len(trainPredictions)+look_back, :] = trainPredictions\n",
    "\n",
    "\n",
    "testingPlot = np.empty_like(prices)\n",
    "testingPlot[:, :] = np.nan\n",
    "testingPlot[len(trainPredictions)+(look_back*2)+1:len(prices)-1, :] = testPredictions"
   ]
  },
  {
   "cell_type": "code",
   "execution_count": 233,
   "metadata": {},
   "outputs": [
    {
     "data": {
      "image/png": "[encoded data removed]",
      "text/plain": [
       "<matplotlib.figure.Figure at 0x1738a01d0>"
      ]
     },
     "metadata": {},
     "output_type": "display_data"
    }
   ],
   "source": [
    "# plot our original data\n",
    "plt.plot(prices[:, 0])\n",
    "plt.xlabel(\"Time\")\n",
    "plt.ylabel(\"Price (USD)\")\n",
    "plt.title(\"Historical Closing Prices for Boeing Inc. (BA)\")\n",
    "plt.show()"
   ]
  },
  {
   "cell_type": "code",
   "execution_count": 234,
   "metadata": {},
   "outputs": [
    {
     "data": {
      "image/png": "[encoded data removed]",
      "text/plain": [
       "<matplotlib.figure.Figure at 0x1738849e8>"
      ]
     },
     "metadata": {},
     "output_type": "display_data"
    }
   ],
   "source": [
    "plt.plot(prices[:, 0], label=\"Actual\")\n",
    "plt.plot(trainingPlot[:, 0], label=\"Training\")\n",
    "plt.title(\"Training Predictions vs. Actual for Closing Prices for Boeing, Inc. (BA)\")\n",
    "plt.xlabel(\"Time\")\n",
    "plt.ylabel(\"Price (USD)\")\n",
    "plt.legend()\n",
    "plt.show()"
   ]
  },
  {
   "cell_type": "code",
   "execution_count": 235,
   "metadata": {},
   "outputs": [
    {
     "data": {
      "image/png": "[encoded data removed]",
      "text/plain": [
       "<matplotlib.figure.Figure at 0x17317e748>"
      ]
     },
     "metadata": {},
     "output_type": "display_data"
    }
   ],
   "source": [
    "plt.plot(prices[:, 0], label=\"Actual\")\n",
    "plt.plot(testingPlot[:, 0], label=\"Testing\")\n",
    "plt.title(\"Testing Predictions vs. Actual for Closing Prices of Boeing, Inc. (BA)\")\n",
    "plt.xlabel(\"Time\")\n",
    "plt.ylabel(\"Price (USD)\")\n",
    "plt.legend()\n",
    "plt.show()"
   ]
  },
  {
   "cell_type": "code",
   "execution_count": 238,
   "metadata": {},
   "outputs": [
    {
     "data": {
      "image/png": "[encoded data removed]",
      "text/plain": [
       "<matplotlib.figure.Figure at 0x16ad16940>"
      ]
     },
     "metadata": {},
     "output_type": "display_data"
    }
   ],
   "source": [
    "plt.plot(prices[:, 0], label=\"Actual\")\n",
    "plt.plot(testingPlot[:, 0], label=\"Testing\")\n",
    "plt.plot(trainingPlot[:, 0], label=\"Training\")\n",
    "plt.title(\"Prediction vs. Actual Closing Price for Boeing, Inc. (BA)\")\n",
    "plt.xlabel(\"Time\")\n",
    "plt.ylabel(\"Price (USD)\")\n",
    "plt.legend()\n",
    "plt.show()"
   ]
  },
  {
   "cell_type": "markdown",
   "metadata": {},
   "source": [
    "### Accuracy\n",
    "\n",
    "By adding more dimensions to our data, we were able to improve the accuracy of the model, allowing the model to start to predict the upward trend of the price hike increase. Without this extra data, the model predicted a slightly downward trend. We can further improve the accuracy by adding sentiment analysis, or data from competitors, such as Airbus. We can also add sales, and company profit as well as politics around the space, and much more.\n",
    "\n",
    "To further improve the general accuracy when testing, we can perform hyperparameter optimization so the model doesn't become too overfit on the training data."
   ]
  },
  {
   "cell_type": "code",
   "execution_count": null,
   "metadata": {
    "collapsed": true
   },
   "outputs": [],
   "source": []
  }
 ],
 "metadata": {
  "kernelspec": {
   "display_name": "Python 3",
   "language": "python",
   "name": "python3"
  },
  "language_info": {
   "codemirror_mode": {
    "name": "ipython",
    "version": 3
   },
   "file_extension": ".py",
   "mimetype": "text/x-python",
   "name": "python",
   "nbconvert_exporter": "python",
   "pygments_lexer": "ipython3",
   "version": "3.6.2"
  }
 },
 "nbformat": 4,
 "nbformat_minor": 2
}

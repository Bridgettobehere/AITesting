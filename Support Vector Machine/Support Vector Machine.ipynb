{
 "cells": [
  {
   "cell_type": "markdown",
   "metadata": {},
   "source": [
    "# Support Vector Machines\n",
    "\n",
    "## Use cases of SVM\n",
    "\n",
    "- Classification, regression (time series prediction), **outlier detection**, and clustering\n",
    "\n",
    "Outlier detection could be extremely useful for security. If you have a dataset of login attempts from users at a given IP address, an SVM could detect if the user signed in from a different location, because that login would be an outlier.\n",
    "\n",
    "Outlier detection can also be usful for fraud detection. Detecting purchases that are outliers to the current dataset. If you leave the country, state, or make a purchase over a certain amount, it would produce an outlier, and a SVM would be able to detect that.\n",
    "\n",
    "SVMs represent the mapping between the labels and the data provided. Once a ML Model has learned the relationship between the label and the data, we can use the trained SVM to detect various different things from the list above, by outputting its prediction."
   ]
  },
  {
   "cell_type": "markdown",
   "metadata": {},
   "source": [
    "## Differences between SVMs and Artificial Neural Networks\n",
    "\n",
    "An SVM takes a set of data and tries to separate that data by a margin line provided by the user. SVMs are better for smaller datasets, 1000 datapoints or less, as a SVM can work well with less data to train with.\n",
    "\n",
    "An Artificial Neural Network or Random Forest, per say, need a much larger training dataset, but end up with a much better trained model than an SVM. It's all dependent on your dataset size. In AI and most of life, \"It all depends\".\n",
    "\n",
    "Choosing a SVM over a Artificial Neural Network requires a deep understanding of the problem at hand, as well as how much training data you have.\n",
    "\n",
    "![SVM](https://qph.ec.quoracdn.net/main-qimg-fe4f8ca744a8d7030cf0ad0b5d9c3cac?raw=true)\n",
    "\n"
   ]
  },
  {
   "cell_type": "markdown",
   "metadata": {},
   "source": [
    "## Inner Workings of SVMs\n",
    "\n",
    "SVMs work by trying to build a hyperplane by maximizing the space between the dataset classes. Using the support vectors \"class points\" and SVM finds the closest support vectors to create the biggest margin between the two classes. Support vectors support the creation of the SVMs hyperplane. An SVM wants to draw a hyperplane that is in the direct middle of the two classes of data. An SVM does this because when a new data point is introduced, it will have the maximum likelyhood of falling into one of the two classes of data. Drawing a line of best classification will have the best chance of creating an accurate model.\n",
    "\n",
    "An SVM tries to find the optimal function to relate two or more sets of data, like in all other machine learning algorithms. Optimization is the goal, whether it be Gradient Descent, or Newtons Method, etc."
   ]
  },
  {
   "cell_type": "markdown",
   "metadata": {},
   "source": [
    "## SVM Properties\n",
    "\n",
    "An SVM's hyperplane is a decision surface. A hyperplane that operates in **R<sup>n</sup>** is an *n-1* dimensional subspace\n",
    "\n",
    "If we were to have a 300, or 400 dimensional space, which is common in machine learning, A hyperplane operating in **R<sup>400</sup>** would be a 399 dimensional subspace. Machines, unlike humans can easily conceptualize more than 3 dimensions. It is hard for humans to conceptualize any dimension more than 3. The 4th dimension, often theorized in Physics, has time as its 4th axis, which blows our tiny minds. Computers do not have that problem. Dimensions are easy, as they are represented mathematically, and in binary when it comes time to hit the silicon."
   ]
  },
  {
   "cell_type": "markdown",
   "metadata": {},
   "source": [
    "## Scope for this demo\n",
    "\n",
    "The scope for this SVM demo will only be linear classification, as non-linear classification is much more difficult.\n",
    "\n",
    "**Linear Classification**\n",
    "![Linear Classification](http://www.statsoft.com/textbook/graphics/SVMIntro3.gif)\n",
    "\n",
    "**vs**\n",
    "\n",
    "**Non-Linear Classification**\n",
    "![Non-Linear Classification](https://www.researchgate.net/profile/Catarina_Moreira2/publication/260283043/figure/fig13/AS:297261608259591@1447884098165/Figure-A15-The-non-linear-SVM-classifier-with-the-kernel-trick.png)"
   ]
  },
  {
   "cell_type": "markdown",
   "metadata": {},
   "source": [
    "## Creating a demo SVM"
   ]
  },
  {
   "cell_type": "code",
   "execution_count": 2,
   "metadata": {},
   "outputs": [
    {
     "data": {
      "text/plain": [
       "[<matplotlib.lines.Line2D at 0x10d882b00>]"
      ]
     },
     "execution_count": 2,
     "metadata": {},
     "output_type": "execute_result"
    },
    {
     "data": {
      "image/png": "[encoded data removed]",
      "text/plain": [
       "<matplotlib.figure.Figure at 0x10d882ba8>"
      ]
     },
     "metadata": {},
     "output_type": "display_data"
    }
   ],
   "source": [
    "# In order to perform matrix math and make our lives easier, we will import numpy\n",
    "import numpy as np\n",
    "# Importing MatPlot Lib will make it so that we can plot data in 2D (or 3D space, but not for this project)\n",
    "from matplotlib import pyplot as plt\n",
    "%matplotlib inline\n",
    "\n",
    "# Step 1 - Define our data\n",
    "\n",
    "# Out sample input data in R^2. Of the form: [X value, Y value, Bias Term]\n",
    "\n",
    "# For now we will set the bias to -1 for this demo\n",
    "\n",
    "\n",
    "X = np.array([\n",
    "    [-2, 4, -1],\n",
    "    [4, 1, -1],\n",
    "    [1, 6, -1],\n",
    "    [2, 4, -1],\n",
    "    [6, 2, -1],\n",
    "])\n",
    "\n",
    "# Associated output labels - First 2 examples are labeled '-1' and last 3 are '1'\n",
    "\n",
    "Y = np.array([-1,-1,1,1,1])\n",
    "\n",
    "# we're going to plot the examples we've created on a 2D graph\n",
    "\n",
    "# for each example we have:\n",
    "for d, sample in enumerate(X):\n",
    "    # We are going to plot the negative samples, aka the first 2\n",
    "    \n",
    "    if d < 2:\n",
    "        # create a scatter plot with our data\n",
    "        plt.scatter(sample[0], sample[1], s=120, marker='_', linewidths=2)\n",
    "    \n",
    "    # now plot the positive samples, in this case, the last 3\n",
    "    else:\n",
    "        plt.scatter(sample[0], sample[1], s=120, marker='+', linewidths=2)\n",
    "\n",
    "# Print a possible hyperplane that is seperating the two classes\n",
    "# we'll plot two points and draw a line between them as a naive guess\n",
    "plt.plot([-2, 6], [6, 0.5])\n",
    "        "
   ]
  },
  {
   "cell_type": "markdown",
   "metadata": {},
   "source": [
    "## Error Function\n",
    "\n",
    "Cool. We've created a little line that is the little guess of what the hyperplane should be. We need to take a look at some errors though, as this is not entirely correct.\n",
    "\n",
    "In this case, we're using the [Hinge Loss](https://en.wikipedia.org/wiki/Hinge_loss) function. It is used in SVMs and is a \"maximum-margin\" classifier. It's also used for training classifiers.\n",
    "\n",
    "![](https://camo.githubusercontent.com/037d9b87e5f7049bf61268e7ab27caa3345d1972/687474703a2f2f692e696d6775722e636f6d2f4f7a43777a794e2e706e67)\n",
    "\n",
    "c is the loss function, x is the sample, and y is the true label, f(x) is the predicted label\n",
    "\n",
    "![](https://camo.githubusercontent.com/c971927c2a57b8dcd7e8dc6a1fee81eaa10b9a63/687474703a2f2f692e696d6775722e636f6d2f465a374a6347332e706e67)\n",
    "\n",
    "## Objective Function\n",
    "![](https://camo.githubusercontent.com/56e9ded32847a76adb327f31ca9580cd2d5b1d05/687474703a2f2f692e696d6775722e636f6d2f49354e4e7534342e706e67)\n",
    "\n",
    "Our objective function is our regularizer and our loss function\n",
    "\n",
    "Our objective of a SVM consists of two terms. The first term is a regularizer, the heart of the SVM, the second term is the loss. The regularizer balances between margin maximization and loss. We want to find the decision surface that is maximally far away from any data points.\n",
    "\n",
    "To minimize our loss, and optimize our function, we will use the handy dandy 1st order optimization function, Gradient Descent. We have two terms, deriving them seperatly using the sum run in differentiation.\n",
    "![](https://camo.githubusercontent.com/03ab7412dff32425b1b2bec970a2da39c7e96a6e/687474703a2f2f692e696d6775722e636f6d2f36754b33426e482e706e67)\n"
   ]
  },
  {
   "cell_type": "markdown",
   "metadata": {
    "collapsed": true
   },
   "source": [
    "It so happens that using our objective function can produce a missclassification error. If we meet our misclassification condition, we are going to update our weights to correct for the issue.\n",
    "\n",
    "Misclassification condition\n",
    "\n",
    "![](https://camo.githubusercontent.com/20d970c162f691f54b1797b77b58449b172bc59f/687474703a2f2f692e696d6775722e636f6d2f6739514c41796e2e706e67)\n",
    "\n",
    "Update rule for our weights (misclassified)\n",
    "\n",
    "![](https://camo.githubusercontent.com/fbb72e96572184e6ea966da28431067694b7a20c/687474703a2f2f692e696d6775722e636f6d2f726b645070545a2e706e67)\n",
    "\n",
    "including the learning rate η and the regularizer λ The learning rate is the length of the steps the algorithm makes down the gradient on the error curve.\n",
    "* If the learning rate is too high, the algorithm might overshoot the optimal point\n",
    "* If the learning rate is too low, it could take too long to converge, or not even converge at all\n",
    "\n",
    "The regularizer controls the trade off between the achieving a low training error and a low testing error that is the ability to generalize your classifier to unseen data. As a regulizing parameter we choose 1/epochs, so this parameter will decrease, as the number of epochs increases.\n",
    "\n",
    "* If the regularizer is too high, it is overfit ( large testing error )\n",
    "    * It won't generalize well to new data points\n",
    "* If the regularizer is too low, it is underfit ( also large testing error )\n",
    "    * It will be too generalized to parse new data correctly\n",
    "\n",
    "So we need to update our weights, which follows this rule:\n",
    "\n",
    "![](https://camo.githubusercontent.com/dc310263c6a79f590c7c3043ee077738479c9668/687474703a2f2f692e696d6775722e636f6d2f78544b62765a362e706e67)"
   ]
  },
  {
   "cell_type": "code",
   "execution_count": 10,
   "metadata": {
    "collapsed": true
   },
   "outputs": [],
   "source": [
    "# we are going to perform stochastic gradient descent to learn the seperating hyperplane\n",
    "\n",
    "def svm_sgd_plot(X,Y):\n",
    "    # Initialize our SVMs weight vector with zeros (3 values)\n",
    "    w = np.zeros(len(X[0]))\n",
    "    \n",
    "    # define our learning rate\n",
    "    eta = 1\n",
    "    \n",
    "    # we want to set how many iterations to train for\n",
    "    epochs = 100000\n",
    "    # store our misclassifications so we can plot how they change over time\n",
    "    errors = []\n",
    "    \n",
    "    # Our training part, using gradient descent\n",
    "    \n",
    "    #loop through each iteration starting at 1, as the objective function instructs us to do\n",
    "    for epoch in range(1, epochs):\n",
    "        # set the error to 0 by default\n",
    "        error = 0\n",
    "        \n",
    "        # loop through the datapoints we're given\n",
    "        for index, x_value in enumerate(X):\n",
    "            # time to calculate if we have a misclassification\n",
    "            if (Y[index] * np.dot(X[index], w)) < 1:\n",
    "                # we misclassified, we need to update our weights\n",
    "                w = w + eta * ( (X[index] * Y[index]) + (-2 * (1/epoch) * w) )\n",
    "                \n",
    "                # make sure we say that we encountered an error\n",
    "                error = 1\n",
    "                \n",
    "            else:\n",
    "                # so we encountered a correct classification, we need to update our weights accordingly\n",
    "                w = w + eta * (-2 * (1/epoch) * w)\n",
    "                \n",
    "            # append our error variable to our errors list\n",
    "            errors.append(error)\n",
    "    \n",
    "    # after we've finished our classification, AKA our Machine Learning Part, we are going to have to plot our data\n",
    "    \n",
    "    plt.plot(errors, '|')\n",
    "    # set our y limit\n",
    "    plt.ylim(0.5,1.5)\n",
    "    plt.axes().set_yticklabels([])\n",
    "    plt.xlabel(\"Epoch\")\n",
    "    plt.ylabel(\"Misclassified\")\n",
    "    plt.show()\n",
    "    \n",
    "    # return our weight that has been updated by the function\n",
    "    return w\n",
    "        "
   ]
  },
  {
   "cell_type": "code",
   "execution_count": null,
   "metadata": {
    "collapsed": true,
    "scrolled": true
   },
   "outputs": [],
   "source": []
  },
  {
   "cell_type": "code",
   "execution_count": 12,
   "metadata": {},
   "outputs": [
    {
     "data": {
      "text/plain": [
       "<matplotlib.quiver.Quiver at 0x11117d978>"
      ]
     },
     "execution_count": 12,
     "metadata": {},
     "output_type": "execute_result"
    },
    {
     "data": {
      "image/png": "[encoded data removed]",
      "text/plain": [
       "<matplotlib.figure.Figure at 0x1115add68>"
      ]
     },
     "metadata": {},
     "output_type": "display_data"
    }
   ],
   "source": [
    "# we're going to do some plotting here\n",
    "\n",
    "# for plotting some our sample data, X, we can just reuse the function we used at the top of this document\n",
    "for d, sample in enumerate(X):\n",
    "    # We are going to plot the negative samples, aka the first 2\n",
    "    \n",
    "    if d < 2:\n",
    "        # create a scatter plot with our data\n",
    "        plt.scatter(sample[0], sample[1], s=120, marker='_', linewidths=2)\n",
    "    \n",
    "    # now plot the positive samples, in this case, the last 3\n",
    "    else:\n",
    "        plt.scatter(sample[0], sample[1], s=120, marker='+', linewidths=2)\n",
    "\n",
    "# now we want some new data, so we're going to add some of our own test samples\n",
    "\n",
    "plt.scatter(2, 2, s=120, marker=\"_\", linewidths=2, color='yellow')\n",
    "plt.scatter(4, 3, s=120, marker=\"+\", linewidths=2, color='blue')\n",
    "\n",
    "# print out our hyperplane calculated by svm_sgd_plot()\n",
    "x2 = [w[0], w[1], -w[1], w[0]]\n",
    "x3 = [w[0], w[1], w[1], -w[0]]\n",
    "\n",
    "x2x3 = np.array([x2,x3])\n",
    "\n",
    "X,Y,U,V = zip(*x2x3)\n",
    "\n",
    "ax = plt.gca()\n",
    "ax.quiver(X,Y,U,V, scale=1, color='blue')\n"
   ]
  },
  {
   "cell_type": "code",
   "execution_count": 11,
   "metadata": {},
   "outputs": [
    {
     "data": {
      "image/png": "[encoded data removed]",
      "text/plain": [
       "<matplotlib.figure.Figure at 0x1110e3c18>"
      ]
     },
     "metadata": {},
     "output_type": "display_data"
    }
   ],
   "source": [
    "w = svm_sgd_plot(X,Y)"
   ]
  },
  {
   "cell_type": "markdown",
   "metadata": {},
   "source": [
    "## Correct Classification\n",
    "\n",
    "As you can see, the data has been correctly classified, and our hyperplane looks optimal!\n",
    "\n",
    "As the graph above shows, the misclassification greatly reduces as the epochs increase. The machine gets better with time, and in only 100,000 iterations."
   ]
  },
  {
   "cell_type": "code",
   "execution_count": null,
   "metadata": {
    "collapsed": true
   },
   "outputs": [],
   "source": []
  }
 ],
 "metadata": {
  "kernelspec": {
   "display_name": "Python 3",
   "language": "python",
   "name": "python3"
  },
  "language_info": {
   "codemirror_mode": {
    "name": "ipython",
    "version": 3
   },
   "file_extension": ".py",
   "mimetype": "text/x-python",
   "name": "python",
   "nbconvert_exporter": "python",
   "pygments_lexer": "ipython3",
   "version": "3.6.1"
  }
 },
 "nbformat": 4,
 "nbformat_minor": 2
}
